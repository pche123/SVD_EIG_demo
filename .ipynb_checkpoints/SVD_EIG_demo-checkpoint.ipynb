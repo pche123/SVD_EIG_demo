{
 "cells": [
  {
   "cell_type": "markdown",
   "id": "895c982b",
   "metadata": {},
   "source": [
    "# Function Definitions"
   ]
  },
  {
   "cell_type": "code",
   "execution_count": 9,
   "id": "925fb3fa",
   "metadata": {},
   "outputs": [],
   "source": [
    "# https://stackoverflow.com/a/52488038/7487684\n",
    "# It is because U and V are calculated independently so they are not linked together wrt sign consistency\n",
    "# https://math.stackexchange.com/questions/4385842/why-is-svd-stable-when-eigendecomposition-is-not\n",
    "# https://math.stackexchange.com/questions/3597333/stability-of-eigenvalues-singular-values-on-altering-the-matrix\n",
    "\n",
    "def eig_svd(X):\n",
    "    XtX = X.T@X\n",
    "    XXt = X@X.T\n",
    "    m,n = X.shape\n",
    "    \n",
    "    s21, V = np.linalg.eig(XtX)\n",
    "    # consistent ordering with SVD\n",
    "    order_s21 = np.argsort(s21)[::-1] \n",
    "    V = V[:,order_s21]\n",
    "\n",
    "    s22, U = np.linalg.eig(XXt)\n",
    "    # consistent ordering with SVD\n",
    "    order_s22 = np.argsort(s22)[::-1] \n",
    "    U = U[:,order_s22] \n",
    "\n",
    "    # Needs to be done so it can multiply in with the nullspace correctly\n",
    "    if m > n:\n",
    "        s2 = np.sort(np.sqrt(np.abs(s21)))[::-1]\n",
    "    else:\n",
    "        s2 = np.sort(np.sqrt(np.abs(s22)))[::-1]\n",
    "        \n",
    "    return [U,s2,V.T]\n",
    "\n",
    "\n",
    "def sign_correction(eig_vec, svd_vec):\n",
    "    '''\n",
    "    Because the eigenvectors are calculated in an un-coupled \n",
    "    way in eig_svd, it may not properly reconstruct the \n",
    "    original X matrix. Therefore we will use the signs from\n",
    "    SVD as a 'guide' on which numbers should be negated in the\n",
    "    eigenvectors. \n",
    "    '''\n",
    "    \n",
    "    return np.abs(eig_vec)*np.sign(svd_vec)"
   ]
  },
  {
   "cell_type": "markdown",
   "id": "4ae0fd75",
   "metadata": {},
   "source": [
    "# Example Usage "
   ]
  },
  {
   "cell_type": "code",
   "execution_count": 12,
   "id": "cf81d7cc",
   "metadata": {},
   "outputs": [
    {
     "name": "stdout",
     "output_type": "stream",
     "text": [
      "6.6722987717532546e-15\n",
      "6.963235565973438e-15\n"
     ]
    }
   ],
   "source": [
    "import numpy as np \n",
    "from scipy import linalg \n",
    "\n",
    "X = np.random.randn(20, 4) \n",
    "m,n = X.shape\n",
    "\n",
    "u, s, vt = eig_svd(X); u=np.real(u)\n",
    "u2,s2,v2 = np.linalg.svd(X)  # needs to be done before the sign correction returns v2 as the transpose\n",
    "\n",
    "for i in range(m):\n",
    "    u[:,i] = sign_correction(u[:,i],u2[:,i])\n",
    "for i in range(n):\n",
    "    vt[:,i] = sign_correction(vt[:,i],v2[:,i])\n",
    "    \n",
    "recon = u @ linalg.diagsvd(s,*X.shape) @ vt\n",
    "recon2 = u2 @ linalg.diagsvd(s,*X.shape) @ v2\n",
    "\n",
    "# Checking how well we can reconstruct\n",
    "# Note taht for large \"X\" eig_vec will do poorly, which is why SVD is not calculated with eig function in practice\n",
    "print(np.linalg.norm(recon-X))\n",
    "print(np.linalg.norm(recon2-X))"
   ]
  },
  {
   "cell_type": "code",
   "execution_count": null,
   "id": "687829ad",
   "metadata": {},
   "outputs": [],
   "source": []
  }
 ],
 "metadata": {
  "kernelspec": {
   "display_name": "Python 3 (ipykernel)",
   "language": "python",
   "name": "python3"
  },
  "language_info": {
   "codemirror_mode": {
    "name": "ipython",
    "version": 3
   },
   "file_extension": ".py",
   "mimetype": "text/x-python",
   "name": "python",
   "nbconvert_exporter": "python",
   "pygments_lexer": "ipython3",
   "version": "3.9.12"
  }
 },
 "nbformat": 4,
 "nbformat_minor": 5
}
